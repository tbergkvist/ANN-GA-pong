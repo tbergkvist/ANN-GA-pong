{
 "cells": [
  {
   "cell_type": "code",
   "execution_count": 1,
   "metadata": {},
   "outputs": [
    {
     "name": "stdout",
     "output_type": "stream",
     "text": [
      "pygame 2.5.2 (SDL 2.28.3, Python 3.11.7)\n",
      "Hello from the pygame community. https://www.pygame.org/contribute.html\n"
     ]
    }
   ],
   "source": [
    "from simulation import *\n",
    "from ann import ANN\n",
    "import numpy"
   ]
  },
  {
   "cell_type": "code",
   "execution_count": 9,
   "metadata": {},
   "outputs": [],
   "source": [
    "input_size = 4  # ball_x, ball_y, paddle_y, opponent_y\n",
    "hidden_layer_sizes = [10, 10]  # Two hidden layers with 10 neurons each\n",
    "output_size = 1  # Single output neuron for the paddle movement\n",
    "number_of_players = 2\n",
    "player_matrix = np.zeros((number_of_players, number_of_players))\n",
    "players = []"
   ]
  },
  {
   "cell_type": "code",
   "execution_count": null,
   "metadata": {},
   "outputs": [],
   "source": [
    "for i in range(len(number_of_players)):  # Create all players.\n",
    "    players.append(ANN(input_size, hidden_layer_sizes, output_size))\n"
   ]
  },
  {
   "cell_type": "code",
   "execution_count": null,
   "metadata": {},
   "outputs": [],
   "source": []
  },
  {
   "cell_type": "code",
   "execution_count": null,
   "metadata": {},
   "outputs": [],
   "source": [
    "# Example state (random positions for the sake of demonstration)\n",
    "state = [0.5, 0.5, 0.4, 0.8]\n",
    "\n",
    "move = players[0].predict(state)\n",
    "print(\"Paddle movement:\", move)"
   ]
  }
 ],
 "metadata": {
  "kernelspec": {
   "display_name": "Python 3",
   "language": "python",
   "name": "python3"
  },
  "language_info": {
   "codemirror_mode": {
    "name": "ipython",
    "version": 3
   },
   "file_extension": ".py",
   "mimetype": "text/x-python",
   "name": "python",
   "nbconvert_exporter": "python",
   "pygments_lexer": "ipython3",
   "version": "3.11.7"
  }
 },
 "nbformat": 4,
 "nbformat_minor": 2
}
