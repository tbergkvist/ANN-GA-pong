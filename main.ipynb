{
 "cells": [
  {
   "cell_type": "markdown",
   "metadata": {},
   "source": [
    "# Simulation of pong controlled by ANNs trained by genetic algorithms\n",
    "Project Created by Teo Bergkvist $\\pi 3$\n",
    "\n",
    "Spring 2024\n",
    "\n",
    "Use code as it is, or modify it, but keep it open source and please give credit to original author [Teo Bergkvist](https://github.com/tbergkvist)"
   ]
  },
  {
   "cell_type": "markdown",
   "metadata": {},
   "source": [
    "#### Imports"
   ]
  },
  {
   "cell_type": "code",
   "execution_count": 1,
   "metadata": {},
   "outputs": [
    {
     "name": "stdout",
     "output_type": "stream",
     "text": [
      "pygame 2.5.2 (SDL 2.28.3, Python 3.11.7)\n",
      "Hello from the pygame community. https://www.pygame.org/contribute.html\n"
     ]
    }
   ],
   "source": [
    "import numpy as np\n",
    "from simulation import *\n",
    "from ann import ANN\n",
    "from ga import *"
   ]
  },
  {
   "cell_type": "markdown",
   "metadata": {},
   "source": [
    "#### Define a function to run the games and create a winner_matrix."
   ]
  },
  {
   "cell_type": "code",
   "execution_count": 2,
   "metadata": {},
   "outputs": [],
   "source": [
    "def run_games(game_matrix):\n",
    "    \"\"\"Runs all the games in the game_matrix.\n",
    "\n",
    "    Args:\n",
    "        game_matrix (numpy array): The matrix containing the games to run.\n",
    "\n",
    "    Returns:\n",
    "        numpy array: A matrix that contains the results of the games.\n",
    "    \"\"\"\n",
    "    winner_matrix = np.zeros((len(game_matrix), len(game_matrix)))\n",
    "    for row in range(len(game_matrix)):\n",
    "        for col in range(len(game_matrix)):\n",
    "            if row == col:\n",
    "                continue\n",
    "            game = game_matrix[row][col]\n",
    "            if game is not None:\n",
    "                winner = run_headless(game)\n",
    "                if winner.name == \"Player 1\":\n",
    "                    winner_matrix[row][col] = 1\n",
    "                    winner_matrix[col][row] = 0\n",
    "                elif winner.name == \"Player 2\":\n",
    "                    winner_matrix[row][col] = 0\n",
    "                    winner_matrix[col][row] = 1\n",
    "    return winner_matrix"
   ]
  },
  {
   "cell_type": "markdown",
   "metadata": {},
   "source": [
    "#### Set the parameters."
   ]
  },
  {
   "cell_type": "code",
   "execution_count": 3,
   "metadata": {},
   "outputs": [],
   "source": [
    "input_size = 4  # ball_x, ball_y, paddle_y, opponent_y, do not change this if you do not know what you are doing!!\n",
    "hidden_layer_sizes = [5, 5]  # Two hidden layers with 10 neurons each.\n",
    "output_size = 1  # Single output neuron for the paddle movement.\n",
    "number_of_players = 50  # The number of players to have in each generation.\n",
    "players = []"
   ]
  },
  {
   "cell_type": "markdown",
   "metadata": {},
   "source": [
    "#### Create a list of players and a game_matrix."
   ]
  },
  {
   "cell_type": "code",
   "execution_count": 4,
   "metadata": {},
   "outputs": [],
   "source": [
    "for i in range(number_of_players):  # Create all players.\n",
    "    players.append((0, ANN(input_size, hidden_layer_sizes, output_size)))  # Tuples with their score and their ANN.\n",
    "\n",
    "game_matrix = create_game_matrix(players)  # Create the game matrix."
   ]
  },
  {
   "cell_type": "markdown",
   "metadata": {},
   "source": [
    "#### Run the games."
   ]
  },
  {
   "cell_type": "code",
   "execution_count": 5,
   "metadata": {},
   "outputs": [],
   "source": [
    "winner_matrix = run_games(game_matrix)  # Run all the games!"
   ]
  },
  {
   "cell_type": "markdown",
   "metadata": {},
   "source": [
    "#### Evaluate by updating the fitness and applying some natural selection!"
   ]
  },
  {
   "cell_type": "code",
   "execution_count": 6,
   "metadata": {},
   "outputs": [],
   "source": [
    "update_fitness(players, winner_matrix)  # Update the fitness of the players, based on the results from the games.\n",
    "players = multiply(players)  # Let the best players stay and multiply, remove the rest."
   ]
  },
  {
   "cell_type": "markdown",
   "metadata": {},
   "source": [
    "### Now all the steps have been shown. Lets loop and run a lot of games to train a pong master."
   ]
  },
  {
   "cell_type": "code",
   "execution_count": 7,
   "metadata": {},
   "outputs": [
    {
     "ename": "KeyboardInterrupt",
     "evalue": "",
     "output_type": "error",
     "traceback": [
      "\u001b[0;31m---------------------------------------------------------------------------\u001b[0m",
      "\u001b[0;31mKeyboardInterrupt\u001b[0m                         Traceback (most recent call last)",
      "Cell \u001b[0;32mIn[7], line 5\u001b[0m\n\u001b[1;32m      3\u001b[0m \u001b[38;5;28;01mfor\u001b[39;00m i \u001b[38;5;129;01min\u001b[39;00m \u001b[38;5;28mrange\u001b[39m(number_of_generations):\n\u001b[1;32m      4\u001b[0m     game_matrix \u001b[38;5;241m=\u001b[39m create_game_matrix(players)\n\u001b[0;32m----> 5\u001b[0m     winner_matrix \u001b[38;5;241m=\u001b[39m run_games(game_matrix)\n\u001b[1;32m      6\u001b[0m     update_fitness(players, winner_matrix)\n\u001b[1;32m      7\u001b[0m     players \u001b[38;5;241m=\u001b[39m multiply(players, mutation_rate\u001b[38;5;241m=\u001b[39m\u001b[38;5;241m0.01\u001b[39m)\n",
      "Cell \u001b[0;32mIn[2], line 17\u001b[0m, in \u001b[0;36mrun_games\u001b[0;34m(game_matrix)\u001b[0m\n\u001b[1;32m     15\u001b[0m game \u001b[38;5;241m=\u001b[39m game_matrix[row][col]\n\u001b[1;32m     16\u001b[0m \u001b[38;5;28;01mif\u001b[39;00m game \u001b[38;5;129;01mis\u001b[39;00m \u001b[38;5;129;01mnot\u001b[39;00m \u001b[38;5;28;01mNone\u001b[39;00m:\n\u001b[0;32m---> 17\u001b[0m     winner \u001b[38;5;241m=\u001b[39m run_headless(game)\n\u001b[1;32m     18\u001b[0m     \u001b[38;5;28;01mif\u001b[39;00m winner\u001b[38;5;241m.\u001b[39mname \u001b[38;5;241m==\u001b[39m \u001b[38;5;124m\"\u001b[39m\u001b[38;5;124mPlayer 1\u001b[39m\u001b[38;5;124m\"\u001b[39m:\n\u001b[1;32m     19\u001b[0m         winner_matrix[row][col] \u001b[38;5;241m=\u001b[39m \u001b[38;5;241m1\u001b[39m\n",
      "File \u001b[0;32m~/repos/ANN-GA-pong/simulation.py:191\u001b[0m, in \u001b[0;36mrun_headless\u001b[0;34m(game, verbose)\u001b[0m\n\u001b[1;32m    189\u001b[0m \u001b[38;5;28;01mwhile\u001b[39;00m \u001b[38;5;129;01mnot\u001b[39;00m game\u001b[38;5;241m.\u001b[39mwinner:\n\u001b[1;32m    190\u001b[0m     action1 \u001b[38;5;241m=\u001b[39m get_action(game\u001b[38;5;241m.\u001b[39mball, game\u001b[38;5;241m.\u001b[39mpaddle1, game\u001b[38;5;241m.\u001b[39mpaddle2)\n\u001b[0;32m--> 191\u001b[0m     action2 \u001b[38;5;241m=\u001b[39m get_action(game\u001b[38;5;241m.\u001b[39mball, game\u001b[38;5;241m.\u001b[39mpaddle2, game\u001b[38;5;241m.\u001b[39mpaddle1)\n\u001b[1;32m    192\u001b[0m     winner \u001b[38;5;241m=\u001b[39m game\u001b[38;5;241m.\u001b[39mstep(action1, action2)\n\u001b[1;32m    193\u001b[0m \u001b[38;5;28;01mif\u001b[39;00m verbose:\n",
      "File \u001b[0;32m~/repos/ANN-GA-pong/simulation.py:123\u001b[0m, in \u001b[0;36mget_action\u001b[0;34m(ball, paddle, opponent)\u001b[0m\n\u001b[1;32m    121\u001b[0m     action \u001b[38;5;241m=\u001b[39m random\u001b[38;5;241m.\u001b[39mchoice([\u001b[38;5;241m-\u001b[39m\u001b[38;5;241m5\u001b[39m, \u001b[38;5;241m0\u001b[39m, \u001b[38;5;241m5\u001b[39m])\n\u001b[1;32m    122\u001b[0m \u001b[38;5;28;01melse\u001b[39;00m:\n\u001b[0;32m--> 123\u001b[0m     action \u001b[38;5;241m=\u001b[39m paddle\u001b[38;5;241m.\u001b[39mnn\u001b[38;5;241m.\u001b[39mpredict(state)\n\u001b[1;32m    124\u001b[0m \u001b[38;5;28;01mreturn\u001b[39;00m action\n",
      "File \u001b[0;32m~/repos/ANN-GA-pong/ann.py:68\u001b[0m, in \u001b[0;36mANN.predict\u001b[0;34m(self, state)\u001b[0m\n\u001b[1;32m     66\u001b[0m output \u001b[38;5;241m=\u001b[39m \u001b[38;5;28mself\u001b[39m\u001b[38;5;241m.\u001b[39mforward(input_data)\n\u001b[1;32m     67\u001b[0m \u001b[38;5;66;03m# Convert the output to an integer between -1 and 1.\u001b[39;00m\n\u001b[0;32m---> 68\u001b[0m move \u001b[38;5;241m=\u001b[39m np\u001b[38;5;241m.\u001b[39mclip(output[\u001b[38;5;241m0\u001b[39m], \u001b[38;5;241m-\u001b[39m\u001b[38;5;241m1\u001b[39m, \u001b[38;5;241m1\u001b[39m)\n\u001b[1;32m     69\u001b[0m move \u001b[38;5;241m*\u001b[39m\u001b[38;5;241m=\u001b[39m \u001b[38;5;28mself\u001b[39m\u001b[38;5;241m.\u001b[39mpredict_multiplier\n\u001b[1;32m     70\u001b[0m \u001b[38;5;28;01mreturn\u001b[39;00m move\n",
      "File \u001b[0;32m~/anaconda3/envs/teddan/lib/python3.11/site-packages/numpy/core/fromnumeric.py:2169\u001b[0m, in \u001b[0;36mclip\u001b[0;34m(a, a_min, a_max, out, **kwargs)\u001b[0m\n\u001b[1;32m   2100\u001b[0m \u001b[38;5;129m@array_function_dispatch\u001b[39m(_clip_dispatcher)\n\u001b[1;32m   2101\u001b[0m \u001b[38;5;28;01mdef\u001b[39;00m \u001b[38;5;21mclip\u001b[39m(a, a_min, a_max, out\u001b[38;5;241m=\u001b[39m\u001b[38;5;28;01mNone\u001b[39;00m, \u001b[38;5;241m*\u001b[39m\u001b[38;5;241m*\u001b[39mkwargs):\n\u001b[1;32m   2102\u001b[0m \u001b[38;5;250m    \u001b[39m\u001b[38;5;124;03m\"\"\"\u001b[39;00m\n\u001b[1;32m   2103\u001b[0m \u001b[38;5;124;03m    Clip (limit) the values in an array.\u001b[39;00m\n\u001b[1;32m   2104\u001b[0m \n\u001b[0;32m   (...)\u001b[0m\n\u001b[1;32m   2167\u001b[0m \n\u001b[1;32m   2168\u001b[0m \u001b[38;5;124;03m    \"\"\"\u001b[39;00m\n\u001b[0;32m-> 2169\u001b[0m     \u001b[38;5;28;01mreturn\u001b[39;00m _wrapfunc(a, \u001b[38;5;124m'\u001b[39m\u001b[38;5;124mclip\u001b[39m\u001b[38;5;124m'\u001b[39m, a_min, a_max, out\u001b[38;5;241m=\u001b[39mout, \u001b[38;5;241m*\u001b[39m\u001b[38;5;241m*\u001b[39mkwargs)\n",
      "File \u001b[0;32m~/anaconda3/envs/teddan/lib/python3.11/site-packages/numpy/core/fromnumeric.py:59\u001b[0m, in \u001b[0;36m_wrapfunc\u001b[0;34m(obj, method, *args, **kwds)\u001b[0m\n\u001b[1;32m     56\u001b[0m     \u001b[38;5;28;01mreturn\u001b[39;00m _wrapit(obj, method, \u001b[38;5;241m*\u001b[39margs, \u001b[38;5;241m*\u001b[39m\u001b[38;5;241m*\u001b[39mkwds)\n\u001b[1;32m     58\u001b[0m \u001b[38;5;28;01mtry\u001b[39;00m:\n\u001b[0;32m---> 59\u001b[0m     \u001b[38;5;28;01mreturn\u001b[39;00m bound(\u001b[38;5;241m*\u001b[39margs, \u001b[38;5;241m*\u001b[39m\u001b[38;5;241m*\u001b[39mkwds)\n\u001b[1;32m     60\u001b[0m \u001b[38;5;28;01mexcept\u001b[39;00m \u001b[38;5;167;01mTypeError\u001b[39;00m:\n\u001b[1;32m     61\u001b[0m     \u001b[38;5;66;03m# A TypeError occurs if the object does have such a method in its\u001b[39;00m\n\u001b[1;32m     62\u001b[0m     \u001b[38;5;66;03m# class, but its signature is not identical to that of NumPy's. This\u001b[39;00m\n\u001b[0;32m   (...)\u001b[0m\n\u001b[1;32m     66\u001b[0m     \u001b[38;5;66;03m# Call _wrapit from within the except clause to ensure a potential\u001b[39;00m\n\u001b[1;32m     67\u001b[0m     \u001b[38;5;66;03m# exception has a traceback chain.\u001b[39;00m\n\u001b[1;32m     68\u001b[0m     \u001b[38;5;28;01mreturn\u001b[39;00m _wrapit(obj, method, \u001b[38;5;241m*\u001b[39margs, \u001b[38;5;241m*\u001b[39m\u001b[38;5;241m*\u001b[39mkwds)\n",
      "File \u001b[0;32m~/anaconda3/envs/teddan/lib/python3.11/site-packages/numpy/core/_methods.py:90\u001b[0m, in \u001b[0;36m_clip\u001b[0;34m(a, min, max, out, **kwargs)\u001b[0m\n\u001b[1;32m     86\u001b[0m         items \u001b[38;5;241m=\u001b[39m umr_sum(broadcast_to(where, arr\u001b[38;5;241m.\u001b[39mshape), axis, nt\u001b[38;5;241m.\u001b[39mintp, \u001b[38;5;28;01mNone\u001b[39;00m,\n\u001b[1;32m     87\u001b[0m                         keepdims)\n\u001b[1;32m     88\u001b[0m     \u001b[38;5;28;01mreturn\u001b[39;00m items\n\u001b[0;32m---> 90\u001b[0m \u001b[38;5;28;01mdef\u001b[39;00m \u001b[38;5;21m_clip\u001b[39m(a, \u001b[38;5;28mmin\u001b[39m\u001b[38;5;241m=\u001b[39m\u001b[38;5;28;01mNone\u001b[39;00m, \u001b[38;5;28mmax\u001b[39m\u001b[38;5;241m=\u001b[39m\u001b[38;5;28;01mNone\u001b[39;00m, out\u001b[38;5;241m=\u001b[39m\u001b[38;5;28;01mNone\u001b[39;00m, \u001b[38;5;241m*\u001b[39m\u001b[38;5;241m*\u001b[39mkwargs):\n\u001b[1;32m     91\u001b[0m     \u001b[38;5;28;01mif\u001b[39;00m \u001b[38;5;28mmin\u001b[39m \u001b[38;5;129;01mis\u001b[39;00m \u001b[38;5;28;01mNone\u001b[39;00m \u001b[38;5;129;01mand\u001b[39;00m \u001b[38;5;28mmax\u001b[39m \u001b[38;5;129;01mis\u001b[39;00m \u001b[38;5;28;01mNone\u001b[39;00m:\n\u001b[1;32m     92\u001b[0m         \u001b[38;5;28;01mraise\u001b[39;00m \u001b[38;5;167;01mValueError\u001b[39;00m(\u001b[38;5;124m\"\u001b[39m\u001b[38;5;124mOne of max or min must be given\u001b[39m\u001b[38;5;124m\"\u001b[39m)\n",
      "\u001b[0;31mKeyboardInterrupt\u001b[0m: "
     ]
    }
   ],
   "source": [
    "number_of_generations = 10  # The number of generations to run.\n",
    "\n",
    "for i in range(number_of_generations):\n",
    "    game_matrix = create_game_matrix(players)\n",
    "    winner_matrix = run_games(game_matrix)\n",
    "    update_fitness(players, winner_matrix)\n",
    "    players = multiply(players, mutation_rate=0.01)"
   ]
  },
  {
   "cell_type": "markdown",
   "metadata": {},
   "source": [
    "#### We can save the weights and biases of the best players."
   ]
  },
  {
   "cell_type": "code",
   "execution_count": 8,
   "metadata": {},
   "outputs": [],
   "source": [
    "number_of_players_to_save = 2  # This sets the number of players to save to a file.\n",
    "\n",
    "for i in range(number_of_players_to_save):\n",
    "    players[i][1].save(f\"./ANN_player_{i}.json\")"
   ]
  },
  {
   "cell_type": "markdown",
   "metadata": {},
   "source": [
    "#### Now lets look at the pong playing!"
   ]
  },
  {
   "cell_type": "code",
   "execution_count": null,
   "metadata": {},
   "outputs": [],
   "source": [
    "game_matrix = create_game_matrix(players)\n",
    "run_pygame(game_matrix[0][1])  # Creates a pygame window to show the game!"
   ]
  },
  {
   "cell_type": "markdown",
   "metadata": {},
   "source": [
    "### Look at pre-trained players"
   ]
  },
  {
   "cell_type": "code",
   "execution_count": 33,
   "metadata": {},
   "outputs": [],
   "source": [
    "players[0][1].load(\"./save/ANN_player_0.json\")\n",
    "players[1][1].load(\"./save/ANN_player_1.json\")"
   ]
  },
  {
   "cell_type": "code",
   "execution_count": 9,
   "metadata": {},
   "outputs": [
    {
     "name": "stdout",
     "output_type": "stream",
     "text": [
      "Player 1 wins!\n"
     ]
    }
   ],
   "source": [
    "game_matrix = create_game_matrix(players)\n",
    "run_pygame(game_matrix[0][1])  # Creates a pygame window to show the game!"
   ]
  }
 ],
 "metadata": {
  "kernelspec": {
   "display_name": "Python 3",
   "language": "python",
   "name": "python3"
  },
  "language_info": {
   "codemirror_mode": {
    "name": "ipython",
    "version": 3
   },
   "file_extension": ".py",
   "mimetype": "text/x-python",
   "name": "python",
   "nbconvert_exporter": "python",
   "pygments_lexer": "ipython3",
   "version": "3.11.7"
  }
 },
 "nbformat": 4,
 "nbformat_minor": 2
}
