{
 "cells": [
  {
   "cell_type": "markdown",
   "metadata": {},
   "source": [
    "# Project in ANNs and genetic algorithms\n",
    "By Teo Bergkvist $\\pi 3$\n",
    "\n",
    "Spring 2024\n",
    "\n",
    "Use code as it is, or modify it, but keep it open source and keep original authors name (Teo)."
   ]
  },
  {
   "cell_type": "code",
   "execution_count": 1,
   "metadata": {},
   "outputs": [
    {
     "name": "stdout",
     "output_type": "stream",
     "text": [
      "pygame 2.5.2 (SDL 2.28.3, Python 3.11.7)\n",
      "Hello from the pygame community. https://www.pygame.org/contribute.html\n"
     ]
    }
   ],
   "source": [
    "from simulation import *\n",
    "from ann import ANN\n",
    "import numpy as np"
   ]
  },
  {
   "cell_type": "code",
   "execution_count": 14,
   "metadata": {},
   "outputs": [
    {
     "data": {
      "text/plain": [
       "array([[None, None],\n",
       "       [None, None]], dtype=object)"
      ]
     },
     "execution_count": 14,
     "metadata": {},
     "output_type": "execute_result"
    }
   ],
   "source": [
    "input_size = 4  # ball_x, ball_y, paddle_y, opponent_y\n",
    "hidden_layer_sizes = [10, 10]  # Two hidden layers with 10 neurons each\n",
    "output_size = 1  # Single output neuron for the paddle movement\n",
    "number_of_players = 2\n",
    "game_matrix = np.empty((number_of_players, number_of_players), dtype=Game)\n",
    "players = []\n",
    "game_matrix"
   ]
  },
  {
   "cell_type": "code",
   "execution_count": 15,
   "metadata": {},
   "outputs": [],
   "source": [
    "for i in range(number_of_players):  # Create all players.\n",
    "    players.append(ANN(input_size, hidden_layer_sizes, output_size))\n",
    "\n",
    "for row in range(number_of_players):\n",
    "    for col in range(number_of_players):\n",
    "        if game_matrix[col][row] is None:\n",
    "            nn = [players[row], players[col]]\n",
    "            game_matrix[row][col] = Game(nn)"
   ]
  },
  {
   "cell_type": "code",
   "execution_count": 16,
   "metadata": {},
   "outputs": [
    {
     "name": "stdout",
     "output_type": "stream",
     "text": [
      "Player 1\n",
      "Player 2\n",
      "Player 2\n"
     ]
    }
   ],
   "source": [
    "for row in game_matrix:\n",
    "    for game in row:\n",
    "        if game is not None:\n",
    "            winner = run_headless(game)\n",
    "            print(winner)"
   ]
  }
 ],
 "metadata": {
  "kernelspec": {
   "display_name": "Python 3",
   "language": "python",
   "name": "python3"
  },
  "language_info": {
   "codemirror_mode": {
    "name": "ipython",
    "version": 3
   },
   "file_extension": ".py",
   "mimetype": "text/x-python",
   "name": "python",
   "nbconvert_exporter": "python",
   "pygments_lexer": "ipython3",
   "version": "3.11.7"
  }
 },
 "nbformat": 4,
 "nbformat_minor": 2
}
