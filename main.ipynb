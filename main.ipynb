{
 "cells": [
  {
   "cell_type": "markdown",
   "metadata": {},
   "source": [
    "# Project in ANNs and genetic algorithms\n",
    "By Teo Bergkvist $\\pi 3$\n",
    "\n",
    "Spring 2024\n",
    "\n",
    "Use code as it is, or modify it, but keep it open source and keep original authors name (Teo)."
   ]
  },
  {
   "cell_type": "markdown",
   "metadata": {},
   "source": [
    "#### Imports"
   ]
  },
  {
   "cell_type": "code",
   "execution_count": 1,
   "metadata": {},
   "outputs": [
    {
     "name": "stdout",
     "output_type": "stream",
     "text": [
      "pygame 2.5.2 (SDL 2.28.3, Python 3.11.7)\n",
      "Hello from the pygame community. https://www.pygame.org/contribute.html\n"
     ]
    }
   ],
   "source": [
    "from simulation import *\n",
    "from ann import ANN\n",
    "import numpy as np\n",
    "from ga import *"
   ]
  },
  {
   "cell_type": "markdown",
   "metadata": {},
   "source": [
    "#### Define a function to run the games and create a winner_matrix."
   ]
  },
  {
   "cell_type": "code",
   "execution_count": 2,
   "metadata": {},
   "outputs": [],
   "source": [
    "def run_games(game_matrix):\n",
    "    winner_matrix = np.zeros((len(game_matrix), len(game_matrix)))\n",
    "    for row in range(len(game_matrix)):\n",
    "        for col in range(len(game_matrix)):\n",
    "            if row == col:\n",
    "                continue\n",
    "            game = game_matrix[row][col]\n",
    "            if game is not None:\n",
    "                winner = run_headless(game)\n",
    "                if winner.name == \"Player 1\":\n",
    "                    winner_matrix[row][col] = 1\n",
    "                    winner_matrix[col][row] = 0\n",
    "                elif winner.name == \"Player 2\":\n",
    "                    winner_matrix[row][col] = 0\n",
    "                    winner_matrix[col][row] = 1\n",
    "    return winner_matrix"
   ]
  },
  {
   "cell_type": "markdown",
   "metadata": {},
   "source": [
    "#### Set the parameters."
   ]
  },
  {
   "cell_type": "code",
   "execution_count": 3,
   "metadata": {},
   "outputs": [],
   "source": [
    "input_size = 4  # ball_x, ball_y, paddle_y, opponent_y\n",
    "hidden_layer_sizes = [10, 10]  # Two hidden layers with 10 neurons each\n",
    "output_size = 1  # Single output neuron for the paddle movement\n",
    "number_of_players = 10\n",
    "players = []"
   ]
  },
  {
   "cell_type": "markdown",
   "metadata": {},
   "source": [
    "#### Create a list of players and a game_matrix."
   ]
  },
  {
   "cell_type": "code",
   "execution_count": 4,
   "metadata": {},
   "outputs": [],
   "source": [
    "for i in range(number_of_players):  # Create all players.\n",
    "    players.append((0, ANN(input_size, hidden_layer_sizes, output_size)))  # Tuples with their score and their ANN.\n",
    "\n",
    "game_matrix = create_game_matrix(players)"
   ]
  },
  {
   "cell_type": "markdown",
   "metadata": {},
   "source": [
    "#### Run the games."
   ]
  },
  {
   "cell_type": "code",
   "execution_count": 5,
   "metadata": {},
   "outputs": [
    {
     "name": "stderr",
     "output_type": "stream",
     "text": [
      "/Users/teo/repos/EXTG15_project/ann.py:20: RuntimeWarning: overflow encountered in exp\n",
      "  return 2 / (1 + np.exp(-x)) - 1\n"
     ]
    }
   ],
   "source": [
    "winner_matrix = run_games(game_matrix)"
   ]
  },
  {
   "cell_type": "markdown",
   "metadata": {},
   "source": [
    "#### Evaluate by updating the fitness and applying some natural selection!"
   ]
  },
  {
   "cell_type": "code",
   "execution_count": 6,
   "metadata": {},
   "outputs": [],
   "source": [
    "update_fitness(players, winner_matrix)\n",
    "players = multiply(players)"
   ]
  },
  {
   "cell_type": "markdown",
   "metadata": {},
   "source": [
    "### Now all the steps have been shown. Lets loop and run a lot of games to train a pong master."
   ]
  },
  {
   "cell_type": "code",
   "execution_count": 15,
   "metadata": {},
   "outputs": [],
   "source": [
    "number_of_generations = 1000\n",
    "for i in range(number_of_generations):\n",
    "    game_matrix = create_game_matrix(players)\n",
    "    winner_matrix = run_games(game_matrix)\n",
    "    update_fitness(players, winner_matrix)\n",
    "    players = multiply(players, mutation_rate=0.01)"
   ]
  },
  {
   "cell_type": "markdown",
   "metadata": {},
   "source": [
    "#### Now lets look at the pong playing!"
   ]
  },
  {
   "cell_type": "code",
   "execution_count": 30,
   "metadata": {},
   "outputs": [
    {
     "name": "stdout",
     "output_type": "stream",
     "text": [
      "Player 2 wins!\n"
     ]
    }
   ],
   "source": [
    "game_matrix = create_game_matrix(players)\n",
    "run_pygame(game_matrix[0][1])"
   ]
  },
  {
   "cell_type": "code",
   "execution_count": null,
   "metadata": {},
   "outputs": [],
   "source": []
  }
 ],
 "metadata": {
  "kernelspec": {
   "display_name": "Python 3",
   "language": "python",
   "name": "python3"
  },
  "language_info": {
   "codemirror_mode": {
    "name": "ipython",
    "version": 3
   },
   "file_extension": ".py",
   "mimetype": "text/x-python",
   "name": "python",
   "nbconvert_exporter": "python",
   "pygments_lexer": "ipython3",
   "version": "3.11.7"
  }
 },
 "nbformat": 4,
 "nbformat_minor": 2
}
