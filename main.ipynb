{
 "cells": [
  {
   "cell_type": "markdown",
   "metadata": {},
   "source": [
    "# Project in ANNs and genetic algorithms\n",
    "Project Created by Teo Bergkvist $\\pi 3$\n",
    "\n",
    "Spring 2024\n",
    "\n",
    "Use code as it is, or modify it, but keep it open source and please give credit to original author [Teo Bergkvist](https://github.com/tbergkvist)"
   ]
  },
  {
   "cell_type": "markdown",
   "metadata": {},
   "source": [
    "#### Imports"
   ]
  },
  {
   "cell_type": "code",
   "execution_count": null,
   "metadata": {},
   "outputs": [],
   "source": [
    "import numpy as np\n",
    "from simulation import *\n",
    "from ann import ANN\n",
    "from ga import *"
   ]
  },
  {
   "cell_type": "markdown",
   "metadata": {},
   "source": [
    "#### Define a function to run the games and create a winner_matrix."
   ]
  },
  {
   "cell_type": "code",
   "execution_count": null,
   "metadata": {},
   "outputs": [],
   "source": [
    "def run_games(game_matrix):\n",
    "    winner_matrix = np.zeros((len(game_matrix), len(game_matrix)))\n",
    "    for row in range(len(game_matrix)):\n",
    "        for col in range(len(game_matrix)):\n",
    "            if row == col:\n",
    "                continue\n",
    "            game = game_matrix[row][col]\n",
    "            if game is not None:\n",
    "                winner = run_headless(game)\n",
    "                if winner.name == \"Player 1\":\n",
    "                    winner_matrix[row][col] = 1\n",
    "                    winner_matrix[col][row] = 0\n",
    "                elif winner.name == \"Player 2\":\n",
    "                    winner_matrix[row][col] = 0\n",
    "                    winner_matrix[col][row] = 1\n",
    "    return winner_matrix"
   ]
  },
  {
   "cell_type": "markdown",
   "metadata": {},
   "source": [
    "#### Set the parameters."
   ]
  },
  {
   "cell_type": "code",
   "execution_count": null,
   "metadata": {},
   "outputs": [],
   "source": [
    "input_size = 4  # ball_x, ball_y, paddle_y, opponent_y\n",
    "hidden_layer_sizes = [5, 5]  # Two hidden layers with 10 neurons each\n",
    "output_size = 1  # Single output neuron for the paddle movement\n",
    "number_of_players = 50\n",
    "players = []"
   ]
  },
  {
   "cell_type": "markdown",
   "metadata": {},
   "source": [
    "#### Create a list of players and a game_matrix."
   ]
  },
  {
   "cell_type": "code",
   "execution_count": null,
   "metadata": {},
   "outputs": [],
   "source": [
    "for i in range(number_of_players):  # Create all players.\n",
    "    players.append((0, ANN(input_size, hidden_layer_sizes, output_size)))  # Tuples with their score and their ANN.\n",
    "\n",
    "game_matrix = create_game_matrix(players)"
   ]
  },
  {
   "cell_type": "markdown",
   "metadata": {},
   "source": [
    "#### Run the games."
   ]
  },
  {
   "cell_type": "code",
   "execution_count": null,
   "metadata": {},
   "outputs": [],
   "source": [
    "winner_matrix = run_games(game_matrix)"
   ]
  },
  {
   "cell_type": "markdown",
   "metadata": {},
   "source": [
    "#### Evaluate by updating the fitness and applying some natural selection!"
   ]
  },
  {
   "cell_type": "code",
   "execution_count": null,
   "metadata": {},
   "outputs": [],
   "source": [
    "update_fitness(players, winner_matrix)\n",
    "players = multiply(players)"
   ]
  },
  {
   "cell_type": "markdown",
   "metadata": {},
   "source": [
    "### Now all the steps have been shown. Lets loop and run a lot of games to train a pong master."
   ]
  },
  {
   "cell_type": "code",
   "execution_count": null,
   "metadata": {},
   "outputs": [],
   "source": [
    "number_of_generations = 10\n",
    "for i in range(number_of_generations):\n",
    "    game_matrix = create_game_matrix(players)\n",
    "    winner_matrix = run_games(game_matrix)\n",
    "    update_fitness(players, winner_matrix)\n",
    "    players = multiply(players, mutation_rate=0.01)"
   ]
  },
  {
   "cell_type": "markdown",
   "metadata": {},
   "source": [
    "#### We can save the weights and biases of the best players."
   ]
  },
  {
   "cell_type": "code",
   "execution_count": null,
   "metadata": {},
   "outputs": [],
   "source": [
    "number_of_players_to_save = 2\n",
    "for i in range(number_of_players_to_save):\n",
    "    players[i][1].save(f\"./ANN_player_{i}.json\")"
   ]
  },
  {
   "cell_type": "markdown",
   "metadata": {},
   "source": [
    "#### Now lets look at the pong playing!"
   ]
  },
  {
   "cell_type": "code",
   "execution_count": null,
   "metadata": {},
   "outputs": [],
   "source": [
    "game_matrix = create_game_matrix(players)\n",
    "run_pygame(game_matrix[0][1])"
   ]
  }
 ],
 "metadata": {
  "kernelspec": {
   "display_name": "Python 3",
   "language": "python",
   "name": "python3"
  },
  "language_info": {
   "codemirror_mode": {
    "name": "ipython",
    "version": 3
   },
   "file_extension": ".py",
   "mimetype": "text/x-python",
   "name": "python",
   "nbconvert_exporter": "python",
   "pygments_lexer": "ipython3",
   "version": "3.11.7"
  }
 },
 "nbformat": 4,
 "nbformat_minor": 2
}
